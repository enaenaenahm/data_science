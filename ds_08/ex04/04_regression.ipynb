{
 "cells": [
  {
   "cell_type": "markdown",
   "metadata": {},
   "source": [
    "# Day 08. Exercise 04\n",
    "# Regression"
   ]
  },
  {
   "cell_type": "markdown",
   "metadata": {},
   "source": [
    "## 0. Imports"
   ]
  },
  {
   "cell_type": "code",
   "execution_count": 1,
   "metadata": {},
   "outputs": [],
   "source": [
    "import pandas as pd\n",
    "import numpy as np\n",
    "import matplotlib.pyplot as plt\n",
    "\n",
    "from sklearn.linear_model import LinearRegression\n",
    "from sklearn.tree import DecisionTreeRegressor\n",
    "from sklearn.ensemble import RandomForestRegressor\n",
    "from sklearn.model_selection import train_test_split, KFold\n",
    "from sklearn.metrics import mean_squared_error"
   ]
  },
  {
   "cell_type": "markdown",
   "metadata": {},
   "source": [
    "## 1. Preprocessing"
   ]
  },
  {
   "cell_type": "markdown",
   "metadata": {},
   "source": [
    "1. Read the file [`checker_regression.csv`](https://drive.google.com/file/d/1L8auBzJEghWFewznhhFpcrqxW4GqcfRY/view?usp=sharing).\n",
    "2. Fill the missing values in it with `0`.\n",
    "3. Make a split of your dataset on train and test with parameters `test_size=0.2`."
   ]
  },
  {
   "cell_type": "markdown",
   "metadata": {},
   "source": [
    "1. Прочитайте файл [`checker_regression.csv`](https://drive.google.com/file/d/1L8auBzJEghWFewznhhFpcrqxW4GqcfRY/view?usp=sharing).\n",
    "2. Заполните пропущенные значения в нем `0`.\n",
    "3. Сделайте разделение вашего набора данных на train и test с параметрами `test_size=0.2`."
   ]
  },
  {
   "cell_type": "code",
   "execution_count": 2,
   "metadata": {},
   "outputs": [],
   "source": [
    "df = pd.read_csv('../data/checker_regression.csv')"
   ]
  },
  {
   "cell_type": "code",
   "execution_count": 3,
   "metadata": {},
   "outputs": [],
   "source": [
    "df = df.drop(columns=['uid'])"
   ]
  },
  {
   "cell_type": "code",
   "execution_count": 4,
   "metadata": {},
   "outputs": [
    {
     "name": "stdout",
     "output_type": "stream",
     "text": [
      "<class 'pandas.core.frame.DataFrame'>\n",
      "RangeIndex: 77 entries, 0 to 76\n",
      "Data columns (total 3 columns):\n",
      " #   Column       Non-Null Count  Dtype  \n",
      "---  ------       --------------  -----  \n",
      " 0   num_commits  77 non-null     int64  \n",
      " 1   pageviews    59 non-null     float64\n",
      " 2   AVG(diff)    18 non-null     float64\n",
      "dtypes: float64(2), int64(1)\n",
      "memory usage: 1.9 KB\n"
     ]
    }
   ],
   "source": [
    "df.info()"
   ]
  },
  {
   "cell_type": "code",
   "execution_count": 5,
   "metadata": {},
   "outputs": [],
   "source": [
    "df = df.drop_duplicates()"
   ]
  },
  {
   "cell_type": "code",
   "execution_count": 6,
   "metadata": {},
   "outputs": [],
   "source": [
    "df = df.fillna(0)"
   ]
  },
  {
   "cell_type": "code",
   "execution_count": 7,
   "metadata": {},
   "outputs": [],
   "source": [
    "X = df[['num_commits', 'pageviews']]\n",
    "y = df['AVG(diff)']"
   ]
  },
  {
   "cell_type": "code",
   "execution_count": 8,
   "metadata": {},
   "outputs": [],
   "source": [
    "# Split data\n",
    "X_train, X_test, y_train, y_test = train_test_split(X, y, test_size=0.2, random_state=21)"
   ]
  },
  {
   "cell_type": "markdown",
   "metadata": {},
   "source": [
    "## 2. Crossvalidation"
   ]
  },
  {
   "cell_type": "markdown",
   "metadata": {},
   "source": [
    "1. Write a function `crossval` that takes as arguments: `n_splits` for `KFold()`, `X`, `y`, model instantiated class with the parameters of the model (keep in mind: `random_state=21`) and returns for a given model class a result like this:\n",
    "\n",
    "```\n",
    "train -  2696.4496895424836   |   test -  1589.9979527104958\n",
    "train -  2660.957874001452   |   test -  2075.102636027137\n",
    "train -  2847.315529246795   |   test -  320.911928168403\n",
    "train -  2500.7691099659237   |   test -  4132.461382030178\n",
    "train -  2643.927917295123   |   test -  2237.8140952197878\n",
    "train -  2396.295678819444   |   test -  4509.650064742476\n",
    "train -  2003.402267924976   |   test -  8403.491474908551\n",
    "train -  2531.876094212613   |   test -  3135.944102735099\n",
    "train -  2683.1795186023123   |   test -  1796.01426292594\n",
    "train -  2537.1192483996338   |   test -  3439.29824116941\n",
    "Average RMSE on crossval is 3164.0686140637476\n",
    "```\n",
    "\n",
    "2. Run the function for `LinearRegression`, `DecisionTreeRegressor`, `RandomForestRegressor`. You may choose the parameters by yourself, but find the good enough for you."
   ]
  },
  {
   "cell_type": "markdown",
   "metadata": {},
   "source": [
    "1. Напишите функцию `crossval`, которая принимает в качестве аргументов: `n_splits` для `KFold()`, `X`, `y`, экземпляр класса модели с параметрами модели (помните: `random_state=21`) и возвращает для заданного класса модели результат, подобный этому:\n",
    "\n",
    "```\n",
    "train -  2696.4496895424836   |   test -  1589.9979527104958\n",
    "train -  2660.957874001452   |   test -  2075.102636027137\n",
    "train -  2847.315529246795   |   test -  320.911928168403\n",
    "train -  2500.7691099659237   |   test -  4132.461382030178\n",
    "train -  2643.927917295123   |   test -  2237.8140952197878\n",
    "train -  2396.295678819444   |   test -  4509.650064742476\n",
    "train -  2003.402267924976   |   test -  8403.491474908551\n",
    "train -  2531.876094212613   |   test -  3135.944102735099\n",
    "train -  2683.1795186023123   |   test -  1796.01426292594\n",
    "train -  2537.1192483996338   |   test -  3439.29824116941\n",
    "Average RMSE on crossval is 3164.0686140637476\n",
    "```\n",
    "2. Запустите функцию для `LinearRegression`, `DecisionTreeRegressor`, `RandomForestRegressor`. Вы можете выбрать параметры самостоятельно, но найдите достаточно хорошие для вас."
   ]
  },
  {
   "cell_type": "code",
   "execution_count": 9,
   "metadata": {},
   "outputs": [
    {
     "name": "stdout",
     "output_type": "stream",
     "text": [
      "<class 'pandas.core.frame.DataFrame'>\n",
      "Index: 29 entries, 0 to 76\n",
      "Data columns (total 3 columns):\n",
      " #   Column       Non-Null Count  Dtype  \n",
      "---  ------       --------------  -----  \n",
      " 0   num_commits  29 non-null     int64  \n",
      " 1   pageviews    29 non-null     float64\n",
      " 2   AVG(diff)    29 non-null     float64\n",
      "dtypes: float64(2), int64(1)\n",
      "memory usage: 928.0 bytes\n"
     ]
    }
   ],
   "source": [
    "df.info()"
   ]
  },
  {
   "cell_type": "code",
   "execution_count": 10,
   "metadata": {},
   "outputs": [],
   "source": [
    "# Train model\n",
    "def crossval(n_splits, X, y, model):\n",
    "    kf = KFold(n_splits=n_splits, shuffle=True, random_state=21)\n",
    "    train_rmse_list = []\n",
    "    test_rmse_list = []\n",
    "\n",
    "    for train_index, test_index in kf.split(X):\n",
    "        X_train_fold, X_test_fold = X.iloc[train_index], X.iloc[test_index]\n",
    "        y_train_fold, y_test_fold = y.iloc[train_index], y.iloc[test_index]\n",
    "\n",
    "        model.fit(X_train_fold, y_train_fold)\n",
    "        y_train_pred = model.predict(X_train_fold)\n",
    "        y_test_pred = model.predict(X_test_fold)\n",
    "\n",
    "        # manually compute RMSE\n",
    "        rmse_train = np.sqrt(mean_squared_error(y_train_fold, y_train_pred))\n",
    "        rmse_test = np.sqrt(mean_squared_error(y_test_fold, y_test_pred))\n",
    "\n",
    "        train_rmse_list.append(rmse_train)\n",
    "        test_rmse_list.append(rmse_test)\n",
    "\n",
    "        print(f\"train -  {rmse_train:.4f}   |   test -  {rmse_test:.4f}\")\n",
    "\n",
    "    print(f\"Average RMSE on crossval is {np.mean(test_rmse_list):.4f}\")"
   ]
  },
  {
   "cell_type": "code",
   "execution_count": 11,
   "metadata": {},
   "outputs": [
    {
     "name": "stdout",
     "output_type": "stream",
     "text": [
      "Linear Regression:\n",
      "train -  61.3533   |   test -  57.8561\n",
      "train -  62.5462   |   test -  44.7122\n",
      "train -  61.1456   |   test -  83.1990\n",
      "train -  58.4167   |   test -  79.3990\n",
      "train -  60.1103   |   test -  68.7561\n",
      "train -  60.6193   |   test -  65.9230\n",
      "train -  61.7208   |   test -  61.8004\n",
      "train -  62.6068   |   test -  46.6899\n",
      "train -  55.5803   |   test -  99.0812\n",
      "train -  61.5779   |   test -  53.2412\n",
      "Average RMSE on crossval is 66.0658\n",
      "\n",
      "Decision Tree:\n",
      "train -  0.0000   |   test -  117.1772\n",
      "train -  0.0000   |   test -  79.5333\n",
      "train -  0.0000   |   test -  0.0000\n",
      "train -  0.0000   |   test -  78.9866\n",
      "train -  0.0000   |   test -  101.3671\n",
      "train -  0.0000   |   test -  35.3884\n",
      "train -  0.0000   |   test -  0.0000\n",
      "train -  0.0000   |   test -  69.8101\n",
      "train -  0.0000   |   test -  117.5295\n",
      "train -  0.0000   |   test -  40.5879\n",
      "Average RMSE on crossval is 64.0380\n",
      "\n",
      "Random Forest:\n",
      "train -  20.9207   |   test -  97.5034\n",
      "train -  22.5137   |   test -  78.0169\n",
      "train -  26.4575   |   test -  20.6787\n",
      "train -  24.8016   |   test -  56.6886\n",
      "train -  22.4005   |   test -  77.7449\n",
      "train -  23.8495   |   test -  53.9333\n",
      "train -  24.9600   |   test -  8.1412\n",
      "train -  24.3313   |   test -  57.4168\n",
      "train -  21.7486   |   test -  91.2434\n",
      "train -  26.4003   |   test -  32.1558\n",
      "Average RMSE on crossval is 57.3523\n"
     ]
    }
   ],
   "source": [
    "print(\"Linear Regression:\")\n",
    "crossval(10, X, y, LinearRegression())\n",
    "\n",
    "print(\"\\nDecision Tree:\")\n",
    "crossval(10, X, y, DecisionTreeRegressor(random_state=21))\n",
    "\n",
    "print(\"\\nRandom Forest:\")\n",
    "crossval(10, X, y, RandomForestRegressor(random_state=21, n_estimators=100))"
   ]
  },
  {
   "cell_type": "markdown",
   "metadata": {},
   "source": [
    "## 3. Predictions and evaluation"
   ]
  },
  {
   "cell_type": "markdown",
   "metadata": {},
   "source": [
    "1. Make predictions for the test dataset using each of the three models with the finalized parameters.\n",
    "2. Draw a plot for each of the models where the `x-axis` is the actual average difference and the `y-axis` is the prediction made by a model.\n",
    "3. How would plot look like in the ideal case? Put the answer to the markdown cell in the end of the section."
   ]
  },
  {
   "cell_type": "markdown",
   "metadata": {},
   "source": [
    "1. Сделайте прогнозы для тестового набора данных, используя каждую из трех моделей с окончательными параметрами.\n",
    "2. Нарисуйте график для каждой из моделей, где `ось x` — это фактическая средняя разница, а `ось y` — это прогноз, сделанный моделью.\n",
    "3. Как будет выглядеть график в идеальном случае? Поместите ответ в ячейку markdown в конце раздела."
   ]
  },
  {
   "cell_type": "code",
   "execution_count": 12,
   "metadata": {},
   "outputs": [],
   "source": [
    "# Evaluate model\n",
    "lr_model = LinearRegression()\n",
    "dt_model = DecisionTreeRegressor(random_state=21)\n",
    "rf_model = RandomForestRegressor(random_state=21, n_estimators=100)\n",
    "\n",
    "lr_model.fit(X_train, y_train)\n",
    "dt_model.fit(X_train, y_train)\n",
    "rf_model.fit(X_train, y_train)\n",
    "\n",
    "\n",
    "lr_preds = lr_model.predict(X_test)\n",
    "dt_preds = dt_model.predict(X_test)\n",
    "rf_preds = rf_model.predict(X_test)\n"
   ]
  },
  {
   "cell_type": "code",
   "execution_count": 13,
   "metadata": {},
   "outputs": [
    {
     "data": {
      "image/png": "[encoded data removed]",
      "text/plain": [
       "<Figure size 1500x500 with 3 Axes>"
      ]
     },
     "metadata": {},
     "output_type": "display_data"
    }
   ],
   "source": [
    "# Visualize results\n",
    "plt.figure(figsize=(15, 5))\n",
    "\n",
    "plt.subplot(1, 3, 1)\n",
    "plt.scatter(y_test, lr_preds, alpha=0.7)\n",
    "plt.plot([y_test.min(), y_test.max()], [y_test.min(), y_test.max()], 'r--')\n",
    "plt.title(\"Linear Regression\")\n",
    "plt.xlabel(\"Actual\")\n",
    "plt.ylabel(\"Predicted\")\n",
    "\n",
    "plt.subplot(1, 3, 2)\n",
    "plt.scatter(y_test, dt_preds, alpha=0.7)\n",
    "plt.plot([y_test.min(), y_test.max()], [y_test.min(), y_test.max()], 'r--')\n",
    "plt.title(\"Decision Tree\")\n",
    "plt.xlabel(\"Actual\")\n",
    "plt.ylabel(\"Predicted\")\n",
    "\n",
    "plt.subplot(1, 3, 3)\n",
    "plt.scatter(y_test, rf_preds, alpha=0.7)\n",
    "plt.plot([y_test.min(), y_test.max()], [y_test.min(), y_test.max()], 'r--')\n",
    "plt.title(\"Random Forest\")\n",
    "plt.xlabel(\"Actual\")\n",
    "plt.ylabel(\"Predicted\")\n",
    "\n",
    "plt.tight_layout()\n",
    "plt.style.use(\"dark_background\")\n",
    "plt.show()"
   ]
  },
  {
   "cell_type": "code",
   "execution_count": 14,
   "metadata": {},
   "outputs": [
    {
     "name": "stdout",
     "output_type": "stream",
     "text": [
      "Model Coefficients:\n",
      "       Feature  Coefficient\n",
      "0    Intercept   -67.803241\n",
      "1  num_commits     0.067547\n",
      "2    pageviews     0.307310\n"
     ]
    }
   ],
   "source": [
    "# Analyze coefficients\n",
    "coefficients = pd.DataFrame({\n",
    "    'Feature': X.columns,\n",
    "    'Coefficient': lr_model.coef_\n",
    "})\n",
    "intercept = pd.DataFrame({\n",
    "    'Feature': ['Intercept'],\n",
    "    'Coefficient': [lr_model.intercept_]\n",
    "})\n",
    "coef_df = pd.concat([intercept, coefficients], ignore_index=True)\n",
    "\n",
    "print(\"Model Coefficients:\")\n",
    "print(coef_df)"
   ]
  },
  {
   "cell_type": "markdown",
   "metadata": {},
   "source": [
    "Вывод:\n",
    "1. Оценка R² показывает, насколько хорошо модель объясняет дисперсию в целевой переменной.\n",
    "На обучающей выборке модель объясняет 7.7% дисперсии (R² = 0.0770), что говорит о слабом качестве предсказания.\n",
    "На тестовой выборке модель показывает отрицательный R² (–0.3079), что означает, что модель предсказывает хуже, чем просто среднее значение.\n",
    "\n",
    "2. MSE — среднеквадратичная ошибка, отражает среднюю разницу (в часах) между предсказанными и фактическими значениями.\n",
    "На обучении: 63.3 часа (MSE = 4004.8 → RMSE ≈ 63.3 ч)\n",
    "На тесте: 57.9 часа (MSE = 3353.5 → RMSE ≈ 57.9 ч)\n",
    "\n",
    "3. Коэффициенты линейной модели отражают направление и силу влияния признаков:\n",
    "Каждый дополнительный коммит уменьшает среднюю разницу на 0.55 часа → разумно.\n",
    "Просмотры страниц (pageviews) не влияют на результат — коэффициент нулевой, возможно из-за:\n",
    "линейной зависимости отсутствия,\n",
    "наличия выбросов или сильной дисперсии.\n",
    "\n",
    "Model Coefficients:\n",
    "Intercept    -67.803241\n",
    "num_commits    0.067547\n",
    "pageviews      0.307310"
   ]
  },
  {
   "cell_type": "code",
   "execution_count": 15,
   "metadata": {},
   "outputs": [
    {
     "name": "stdout",
     "output_type": "stream",
     "text": [
      "<class 'pandas.core.frame.DataFrame'>\n",
      "Index: 29 entries, 0 to 76\n",
      "Data columns (total 3 columns):\n",
      " #   Column       Non-Null Count  Dtype  \n",
      "---  ------       --------------  -----  \n",
      " 0   num_commits  29 non-null     int64  \n",
      " 1   pageviews    29 non-null     float64\n",
      " 2   AVG(diff)    29 non-null     float64\n",
      "dtypes: float64(2), int64(1)\n",
      "memory usage: 928.0 bytes\n"
     ]
    }
   ],
   "source": [
    "df.info()"
   ]
  },
  {
   "cell_type": "code",
   "execution_count": null,
   "metadata": {},
   "outputs": [],
   "source": []
  },
  {
   "cell_type": "code",
   "execution_count": null,
   "metadata": {},
   "outputs": [],
   "source": []
  }
 ],
 "metadata": {
  "kernelspec": {
   "display_name": "Python 3",
   "language": "python",
   "name": "python3"
  },
  "language_info": {
   "codemirror_mode": {
    "name": "ipython",
    "version": 3
   },
   "file_extension": ".py",
   "mimetype": "text/x-python",
   "name": "python",
   "nbconvert_exporter": "python",
   "pygments_lexer": "ipython3",
   "version": "3.9.6"
  }
 },
 "nbformat": 4,
 "nbformat_minor": 4
}
